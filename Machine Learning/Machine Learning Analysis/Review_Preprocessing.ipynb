{
 "cells": [
  {
   "cell_type": "markdown",
   "id": "1813b7bc-1a06-419e-bb5f-649a62c6d7e7",
   "metadata": {},
   "source": [
    "#  Import Library"
   ]
  },
  {
   "cell_type": "code",
   "execution_count": 1,
   "id": "04cbe4e2-3ab5-4a92-818a-1ba859b200d3",
   "metadata": {},
   "outputs": [
    {
     "name": "stderr",
     "output_type": "stream",
     "text": [
      "[nltk_data] Downloading package punkt to\n",
      "[nltk_data]     C:\\Users\\fachr\\AppData\\Roaming\\nltk_data...\n",
      "[nltk_data]   Package punkt is already up-to-date!\n",
      "[nltk_data] Downloading package stopwords to\n",
      "[nltk_data]     C:\\Users\\fachr\\AppData\\Roaming\\nltk_data...\n",
      "[nltk_data]   Package stopwords is already up-to-date!\n",
      "[nltk_data] Downloading package wordnet to\n",
      "[nltk_data]     C:\\Users\\fachr\\AppData\\Roaming\\nltk_data...\n",
      "[nltk_data]   Package wordnet is already up-to-date!\n"
     ]
    }
   ],
   "source": [
    "# Import necessary libraries\n",
    "import numpy as np\n",
    "import pandas as pd\n",
    "import seaborn as sns\n",
    "from pylab import rcParams\n",
    "import matplotlib.pyplot as plt\n",
    "from matplotlib import rc\n",
    "from sklearn.model_selection import train_test_split\n",
    "from sklearn.metrics import confusion_matrix, classification_report\n",
    "from collections import defaultdict\n",
    "from textwrap import wrap\n",
    "import seaborn as sns\n",
    "from sklearn.preprocessing import LabelEncoder\n",
    "\n",
    "import tensorflow as tf\n",
    "import tensorflow_hub as hub\n",
    "import tensorflow_text as text\n",
    "from sklearn.feature_extraction.text import TfidfVectorizer\n",
    "\n",
    "import re\n",
    "import nltk\n",
    "from nltk.corpus import stopwords\n",
    "from nltk.tokenize import word_tokenize\n",
    "from nltk.stem import WordNetLemmatizer\n",
    "from bs4 import BeautifulSoup\n",
    "import google.generativeai as genai\n",
    "\n",
    "nltk.download('punkt')\n",
    "nltk.download('stopwords')\n",
    "nltk.download('wordnet')\n",
    "\n",
    "# Misc.\n",
    "import warnings\n",
    "warnings.filterwarnings('ignore')"
   ]
  },
  {
   "cell_type": "markdown",
   "id": "68ff1e87-ab47-44cf-b67b-66ca85cc5441",
   "metadata": {},
   "source": [
    "# Preprocessing"
   ]
  },
  {
   "cell_type": "markdown",
   "id": "08492555-dfc9-42df-8d7e-7d90c43e1109",
   "metadata": {},
   "source": [
    "## Import Data"
   ]
  },
  {
   "cell_type": "markdown",
   "id": "8b3f7166-87a8-418d-a5d3-2b51f8a26858",
   "metadata": {},
   "source": [
    "### DKI Jakarta"
   ]
  },
  {
   "cell_type": "code",
   "execution_count": 2,
   "id": "6fe1d9ca-9282-43c0-a0a9-4eb23e4bda06",
   "metadata": {},
   "outputs": [],
   "source": [
    "dki_paths = [\n",
    "    #r'.\\File Scraping\\DKI Jakarta\\Jakarta_reviews.csv',\n",
    "    r'.\\File Scraping\\Full Jakarta\\full_jakarta_reviews.csv',\n",
    "    r'.\\File Scraping\\DKI Jakarta\\Revisi Jakarta 1\\Jakarta_reviews_rev1.csv',\n",
    "    r'.\\File Scraping\\DKI Jakarta\\Revisi Jakarta 2\\Jakarta_reviews_rev2.csv',\n",
    "    r'.\\File Scraping\\DKI Jakarta\\Revisi Jakarta 3\\Jakarta_reviews_rev3.csv'\n",
    "]"
   ]
  },
  {
   "cell_type": "code",
   "execution_count": 3,
   "id": "f19d7f25",
   "metadata": {},
   "outputs": [],
   "source": [
    "dki_dfs = [pd.read_csv(dki_path) for dki_path in dki_paths]\n",
    "dki_xlsx = pd.read_excel('.\\File Scraping\\DKI Jakarta\\Jakarta_reviews.xlsx')"
   ]
  },
  {
   "cell_type": "markdown",
   "id": "c33a1a24",
   "metadata": {},
   "source": [
    "### Banten"
   ]
  },
  {
   "cell_type": "code",
   "execution_count": 4,
   "id": "a9237bcc",
   "metadata": {},
   "outputs": [],
   "source": [
    "banten_paths = [\n",
    "    r'.\\File Scraping\\Banten\\Banten_reviews.csv',\n",
    "    r'.\\File Scraping\\Banten\\Revisi Banten 1\\Banten_reviews_rev1.csv',\n",
    "    r'.\\File Scraping\\Banten\\Revisi Banten 2\\Banten_reviews_rev2.csv',\n",
    "    r'.\\File Scraping\\Banten\\Revisi Banten 3\\Banten_reviews_rev3.csv',\n",
    "    r'.\\File Scraping\\Banten\\Revisi Banten 4\\Banten_reviews_rev4.csv',\n",
    "    r'.\\File Scraping\\Banten\\Revisi Banten 5\\Banten_reviews_rev5.csv'\n",
    "]"
   ]
  },
  {
   "cell_type": "code",
   "execution_count": 5,
   "id": "b26ff830",
   "metadata": {},
   "outputs": [],
   "source": [
    "banten_dfs = [pd.read_csv(banten_path) for banten_path in banten_paths]"
   ]
  },
  {
   "cell_type": "markdown",
   "id": "ba58657f",
   "metadata": {},
   "source": [
    "### Jawa Barat"
   ]
  },
  {
   "cell_type": "code",
   "execution_count": 6,
   "id": "2a2972ba",
   "metadata": {},
   "outputs": [],
   "source": [
    "jabar_paths = [\n",
    "    r'.\\File Scraping\\Jawa Barat\\Jabar_reviews.csv',\n",
    "    r'.\\File Scraping\\Jawa Barat\\Revisi Jawa Barat 1\\Jabar_reviews_rev1.csv',\n",
    "    r'.\\File Scraping\\Jawa Barat\\Revisi Jawa Barat 2\\Jabar_reviews_rev2.csv',\n",
    "    r'.\\File Scraping\\Jawa Barat\\Revisi Jawa Barat 3\\Jabar_reviews_rev3.csv',\n",
    "    r'.\\File Scraping\\Jawa Barat\\Revisi Jawa Barat 4\\Jabar_reviews_rev4.csv'\n",
    "]"
   ]
  },
  {
   "cell_type": "code",
   "execution_count": 7,
   "id": "e405632b",
   "metadata": {},
   "outputs": [],
   "source": [
    "jabar_dfs = [pd.read_csv(jabar_path) for jabar_path in jabar_paths]"
   ]
  },
  {
   "cell_type": "markdown",
   "id": "5976e33b",
   "metadata": {},
   "source": [
    "### Jawa Tengah"
   ]
  },
  {
   "cell_type": "code",
   "execution_count": 8,
   "id": "c5ed7ebf",
   "metadata": {},
   "outputs": [],
   "source": [
    "jateng_paths = [\n",
    "    #r'.\\File Scraping\\DKI Jakarta\\Jakarta_reviews.csv',\n",
    "    r'.\\File Scraping\\Jawa Tengah\\Revisi Jawa Tengah 1\\jateng_reviews_rev1.csv',\n",
    "    r'.\\File Scraping\\Jawa Tengah\\Revisi Jawa Tengah 2\\jateng_reviews_rev2.csv',\n",
    "    r'.\\File Scraping\\Jawa Tengah\\Revisi Jawa Tengah 3\\jateng_reviews_rev3.csv'\n",
    "]"
   ]
  },
  {
   "cell_type": "code",
   "execution_count": 9,
   "id": "9ec0d2a6",
   "metadata": {},
   "outputs": [],
   "source": [
    "jateng_dfs = [pd.read_csv(jateng_path) for jateng_path in jateng_paths]\n",
    "jateng_xlsx = pd.read_excel('.\\File Scraping\\Jawa Tengah\\Jateng_reviews.xlsx')"
   ]
  },
  {
   "cell_type": "markdown",
   "id": "2edeeeb8",
   "metadata": {},
   "source": [
    "### Jawa Timur"
   ]
  },
  {
   "cell_type": "code",
   "execution_count": 10,
   "id": "82527763",
   "metadata": {},
   "outputs": [],
   "source": [
    "jatim_paths = [\n",
    "    r'.\\File Scraping\\Jawa Timur\\jatim_reviews.csv',\n",
    "    r'.\\File Scraping\\Jawa Timur\\Revisi Jawa Timur 1\\jatim_reviews_rev1.csv',\n",
    "    r'.\\File Scraping\\Jawa Timur\\Revisi Jawa Timur 2\\jatim_reviews_rev2.csv',\n",
    "    r'.\\File Scraping\\Jawa Timur\\Revisi Jawa Timur 3\\jatim_reviews_rev3.csv'\n",
    "]"
   ]
  },
  {
   "cell_type": "code",
   "execution_count": 11,
   "id": "a870e5a2",
   "metadata": {},
   "outputs": [],
   "source": [
    "jatim_dfs = [pd.read_csv(jatim_path) for jatim_path in jatim_paths]"
   ]
  },
  {
   "cell_type": "markdown",
   "id": "e69938f8",
   "metadata": {},
   "source": [
    "### DI Yogyakarta"
   ]
  },
  {
   "cell_type": "code",
   "execution_count": 12,
   "id": "2e52027f",
   "metadata": {},
   "outputs": [],
   "source": [
    "diy_paths = [\n",
    "    r'.\\File Scraping\\DIY\\DIY_reviews.csv',\n",
    "    r'.\\File Scraping\\DIY\\Revisi DIY 1\\DIY_reviews_rev1.csv',\n",
    "    r'.\\File Scraping\\DIY\\Revisi DIY 2\\DIY_reviews_rev2.csv',\n",
    "    r'.\\File Scraping\\DIY\\Revisi DIY 3\\DIY_reviews_rev3.csv'\n",
    "]"
   ]
  },
  {
   "cell_type": "code",
   "execution_count": 13,
   "id": "b373a2c5",
   "metadata": {},
   "outputs": [],
   "source": [
    "diy_dfs = [pd.read_csv(diy_path) for diy_path in diy_paths]"
   ]
  },
  {
   "cell_type": "markdown",
   "id": "c10b6edc",
   "metadata": {},
   "source": [
    "## Concat"
   ]
  },
  {
   "cell_type": "code",
   "execution_count": 14,
   "id": "70d5c199",
   "metadata": {},
   "outputs": [],
   "source": [
    "merged_dki = pd.concat([pd.concat(dki_dfs, ignore_index=True), dki_xlsx], ignore_index=True)\n",
    "merged_banten = pd.concat(banten_dfs, ignore_index=True)\n",
    "merged_jabar = pd.concat(jabar_dfs, ignore_index=True)\n",
    "merged_jateng = pd.concat([pd.concat(jateng_dfs, ignore_index=True), jateng_xlsx], ignore_index=True)\n",
    "merged_jatim = pd.concat(jatim_dfs, ignore_index=True)\n",
    "merged_diy = pd.concat(diy_dfs, ignore_index=True)"
   ]
  },
  {
   "cell_type": "markdown",
   "id": "e1fa3438",
   "metadata": {},
   "source": [
    "## Drop Feature"
   ]
  },
  {
   "cell_type": "code",
   "execution_count": 15,
   "id": "e0a1eaff",
   "metadata": {},
   "outputs": [
    {
     "name": "stdout",
     "output_type": "stream",
     "text": [
      "<class 'pandas.core.frame.DataFrame'>\n",
      "RangeIndex: 760317 entries, 0 to 760316\n",
      "Data columns (total 17 columns):\n",
      " #   Column                               Non-Null Count   Dtype  \n",
      "---  ------                               --------------   -----  \n",
      " 0   Unnamed: 0                           644578 non-null  float64\n",
      " 1   place_id                             760317 non-null  object \n",
      " 2   place_name                           760317 non-null  object \n",
      " 3   review_id_hash                       760317 non-null  object \n",
      " 4   rating                               760317 non-null  int64  \n",
      " 5   review_text                          391650 non-null  object \n",
      " 6   published_at                         760317 non-null  object \n",
      " 7   published_at_date                    760316 non-null  object \n",
      " 8   response_from_owner_text             77984 non-null   object \n",
      " 9   response_from_owner_ago              79329 non-null   object \n",
      " 10  response_from_owner_date             79326 non-null   object \n",
      " 11  review_likes_count                   760317 non-null  int64  \n",
      " 12  total_number_of_reviews_by_reviewer  709359 non-null  float64\n",
      " 13  total_number_of_photos_by_reviewer   517107 non-null  float64\n",
      " 14  is_local_guide                       710541 non-null  object \n",
      " 15  review_translated_text               292424 non-null  object \n",
      " 16  response_from_owner_translated_text  59188 non-null   object \n",
      "dtypes: float64(3), int64(2), object(12)\n",
      "memory usage: 98.6+ MB\n"
     ]
    }
   ],
   "source": [
    "merged_dki.info()"
   ]
  },
  {
   "cell_type": "code",
   "execution_count": 16,
   "id": "b676dfba",
   "metadata": {},
   "outputs": [],
   "source": [
    "selected_col = ['place_id', 'review_id_hash', 'rating', 'published_at_date',\n",
    "                'review_text', 'review_translated_text'\n",
    "                ]"
   ]
  },
  {
   "cell_type": "code",
   "execution_count": 17,
   "id": "2b45b04e",
   "metadata": {},
   "outputs": [],
   "source": [
    "clean_df_dki = merged_dki[selected_col]\n",
    "clean_df_banten = merged_banten[selected_col]\n",
    "clean_df_jabar = merged_jabar[selected_col]\n",
    "clean_df_jateng = merged_jateng[selected_col]\n",
    "clean_df_jatim = merged_jatim[selected_col]\n",
    "clean_df_diy = merged_diy[selected_col]"
   ]
  },
  {
   "cell_type": "markdown",
   "id": "6a850053",
   "metadata": {},
   "source": [
    "## Combine All"
   ]
  },
  {
   "cell_type": "code",
   "execution_count": 18,
   "id": "7d043590",
   "metadata": {},
   "outputs": [
    {
     "name": "stdout",
     "output_type": "stream",
     "text": [
      "<class 'pandas.core.frame.DataFrame'>\n",
      "RangeIndex: 777924 entries, 0 to 777923\n",
      "Data columns (total 6 columns):\n",
      " #   Column                  Non-Null Count   Dtype \n",
      "---  ------                  --------------   ----- \n",
      " 0   place_id                777924 non-null  object\n",
      " 1   review_id_hash          777924 non-null  object\n",
      " 2   rating                  777924 non-null  int64 \n",
      " 3   published_at_date       777923 non-null  object\n",
      " 4   review_text             403620 non-null  object\n",
      " 5   review_translated_text  315981 non-null  object\n",
      "dtypes: int64(1), object(5)\n",
      "memory usage: 35.6+ MB\n"
     ]
    }
   ],
   "source": [
    "full_df = pd.concat([clean_df_dki, clean_df_banten, clean_df_jabar, clean_df_jateng, clean_df_jatim, clean_df_diy], ignore_index=True)\n",
    "full_df = full_df.drop_duplicates(subset='review_id_hash', ignore_index=True)\n",
    "full_df.info()"
   ]
  },
  {
   "cell_type": "markdown",
   "id": "ad2552a8",
   "metadata": {},
   "source": [
    "## Feature Engineering"
   ]
  },
  {
   "cell_type": "markdown",
   "id": "3e1322b9",
   "metadata": {},
   "source": [
    "### date filter "
   ]
  },
  {
   "cell_type": "code",
   "execution_count": 19,
   "id": "e44ddf68",
   "metadata": {},
   "outputs": [],
   "source": [
    "# Ubah kolom published_at_date menjadi format datetime\n",
    "full_df['published_at_date'] = pd.to_datetime(full_df['published_at_date']).dt.date\n",
    "\n",
    "# Filter untuk 5 tahun terakhir\n",
    "end_date = pd.to_datetime('now').date()\n",
    "start_date = end_date.replace(year=end_date.year - 5)\n",
    "\n",
    "full_df = full_df[(full_df['published_at_date'] >= start_date) & (full_df['published_at_date'] <= end_date)]"
   ]
  },
  {
   "cell_type": "code",
   "execution_count": 20,
   "id": "ce94d29c",
   "metadata": {},
   "outputs": [
    {
     "data": {
      "text/html": [
       "<div>\n",
       "<style scoped>\n",
       "    .dataframe tbody tr th:only-of-type {\n",
       "        vertical-align: middle;\n",
       "    }\n",
       "\n",
       "    .dataframe tbody tr th {\n",
       "        vertical-align: top;\n",
       "    }\n",
       "\n",
       "    .dataframe thead th {\n",
       "        text-align: right;\n",
       "    }\n",
       "</style>\n",
       "<table border=\"1\" class=\"dataframe\">\n",
       "  <thead>\n",
       "    <tr style=\"text-align: right;\">\n",
       "      <th></th>\n",
       "      <th>place_id</th>\n",
       "      <th>review_id_hash</th>\n",
       "      <th>rating</th>\n",
       "      <th>published_at_date</th>\n",
       "      <th>review_text</th>\n",
       "      <th>review_translated_text</th>\n",
       "    </tr>\n",
       "  </thead>\n",
       "  <tbody>\n",
       "    <tr>\n",
       "      <th>0</th>\n",
       "      <td>ChIJu9y7OwvzaS4RLbblSdhvIEw</td>\n",
       "      <td>a18eac00957bdcb65c125d719aa5cba6</td>\n",
       "      <td>5</td>\n",
       "      <td>2023-12-01</td>\n",
       "      <td>NaN</td>\n",
       "      <td>NaN</td>\n",
       "    </tr>\n",
       "    <tr>\n",
       "      <th>1</th>\n",
       "      <td>ChIJu9y7OwvzaS4RLbblSdhvIEw</td>\n",
       "      <td>335fb2a4cf49ec4d09eefe501069feb6</td>\n",
       "      <td>5</td>\n",
       "      <td>2023-12-01</td>\n",
       "      <td>Rayain party pack walau cuma beli minimal 3 aj...</td>\n",
       "      <td>Celebrate the party pack, even if you only buy...</td>\n",
       "    </tr>\n",
       "    <tr>\n",
       "      <th>2</th>\n",
       "      <td>ChIJu9y7OwvzaS4RLbblSdhvIEw</td>\n",
       "      <td>1e0c1274579f38c2384772224573810f</td>\n",
       "      <td>5</td>\n",
       "      <td>2023-12-01</td>\n",
       "      <td>NaN</td>\n",
       "      <td>NaN</td>\n",
       "    </tr>\n",
       "    <tr>\n",
       "      <th>3</th>\n",
       "      <td>ChIJu9y7OwvzaS4RLbblSdhvIEw</td>\n",
       "      <td>89eb5616efbc2ccafb304b8eac29c5f9</td>\n",
       "      <td>5</td>\n",
       "      <td>2023-12-01</td>\n",
       "      <td>NaN</td>\n",
       "      <td>NaN</td>\n",
       "    </tr>\n",
       "    <tr>\n",
       "      <th>4</th>\n",
       "      <td>ChIJu9y7OwvzaS4RLbblSdhvIEw</td>\n",
       "      <td>8b3130ef4a2da4242eff8db2ecd4f3af</td>\n",
       "      <td>5</td>\n",
       "      <td>2023-12-01</td>\n",
       "      <td>NaN</td>\n",
       "      <td>NaN</td>\n",
       "    </tr>\n",
       "    <tr>\n",
       "      <th>...</th>\n",
       "      <td>...</td>\n",
       "      <td>...</td>\n",
       "      <td>...</td>\n",
       "      <td>...</td>\n",
       "      <td>...</td>\n",
       "      <td>...</td>\n",
       "    </tr>\n",
       "    <tr>\n",
       "      <th>777919</th>\n",
       "      <td>ChIJrYIz0CJXei4R-NAdJzRuNeE</td>\n",
       "      <td>a332d84cb4c015471476b302fca0c0ac</td>\n",
       "      <td>5</td>\n",
       "      <td>2023-05-14</td>\n",
       "      <td>Rasanya enak</td>\n",
       "      <td>It feels good</td>\n",
       "    </tr>\n",
       "    <tr>\n",
       "      <th>777920</th>\n",
       "      <td>ChIJEeRcDTFZei4RGwM0XiFELDo</td>\n",
       "      <td>5b63313e61c9e5d97b8c26af6e777634</td>\n",
       "      <td>5</td>\n",
       "      <td>2023-12-14</td>\n",
       "      <td>NaN</td>\n",
       "      <td>NaN</td>\n",
       "    </tr>\n",
       "    <tr>\n",
       "      <th>777921</th>\n",
       "      <td>ChIJQ3jEZgBZei4RJq00TKSIV7w</td>\n",
       "      <td>8d28e90adb3a0e4714898944b105ac39</td>\n",
       "      <td>5</td>\n",
       "      <td>2024-04-14</td>\n",
       "      <td>NaN</td>\n",
       "      <td>NaN</td>\n",
       "    </tr>\n",
       "    <tr>\n",
       "      <th>777922</th>\n",
       "      <td>ChIJi2wQirFZei4RsHLHfUxpZ_k</td>\n",
       "      <td>0546bd30d3bf441d27d7d830ccfe1cee</td>\n",
       "      <td>5</td>\n",
       "      <td>2020-05-14</td>\n",
       "      <td>NaN</td>\n",
       "      <td>NaN</td>\n",
       "    </tr>\n",
       "    <tr>\n",
       "      <th>777923</th>\n",
       "      <td>ChIJGSZLcaxZei4RanqgGgR_xyY</td>\n",
       "      <td>433ce491338fc47927579d406237a29a</td>\n",
       "      <td>5</td>\n",
       "      <td>2020-05-14</td>\n",
       "      <td>NaN</td>\n",
       "      <td>NaN</td>\n",
       "    </tr>\n",
       "  </tbody>\n",
       "</table>\n",
       "<p>727242 rows × 6 columns</p>\n",
       "</div>"
      ],
      "text/plain": [
       "                           place_id                    review_id_hash  rating  \\\n",
       "0       ChIJu9y7OwvzaS4RLbblSdhvIEw  a18eac00957bdcb65c125d719aa5cba6       5   \n",
       "1       ChIJu9y7OwvzaS4RLbblSdhvIEw  335fb2a4cf49ec4d09eefe501069feb6       5   \n",
       "2       ChIJu9y7OwvzaS4RLbblSdhvIEw  1e0c1274579f38c2384772224573810f       5   \n",
       "3       ChIJu9y7OwvzaS4RLbblSdhvIEw  89eb5616efbc2ccafb304b8eac29c5f9       5   \n",
       "4       ChIJu9y7OwvzaS4RLbblSdhvIEw  8b3130ef4a2da4242eff8db2ecd4f3af       5   \n",
       "...                             ...                               ...     ...   \n",
       "777919  ChIJrYIz0CJXei4R-NAdJzRuNeE  a332d84cb4c015471476b302fca0c0ac       5   \n",
       "777920  ChIJEeRcDTFZei4RGwM0XiFELDo  5b63313e61c9e5d97b8c26af6e777634       5   \n",
       "777921  ChIJQ3jEZgBZei4RJq00TKSIV7w  8d28e90adb3a0e4714898944b105ac39       5   \n",
       "777922  ChIJi2wQirFZei4RsHLHfUxpZ_k  0546bd30d3bf441d27d7d830ccfe1cee       5   \n",
       "777923  ChIJGSZLcaxZei4RanqgGgR_xyY  433ce491338fc47927579d406237a29a       5   \n",
       "\n",
       "       published_at_date                                        review_text  \\\n",
       "0             2023-12-01                                                NaN   \n",
       "1             2023-12-01  Rayain party pack walau cuma beli minimal 3 aj...   \n",
       "2             2023-12-01                                                NaN   \n",
       "3             2023-12-01                                                NaN   \n",
       "4             2023-12-01                                                NaN   \n",
       "...                  ...                                                ...   \n",
       "777919        2023-05-14                                       Rasanya enak   \n",
       "777920        2023-12-14                                                NaN   \n",
       "777921        2024-04-14                                                NaN   \n",
       "777922        2020-05-14                                                NaN   \n",
       "777923        2020-05-14                                                NaN   \n",
       "\n",
       "                                   review_translated_text  \n",
       "0                                                     NaN  \n",
       "1       Celebrate the party pack, even if you only buy...  \n",
       "2                                                     NaN  \n",
       "3                                                     NaN  \n",
       "4                                                     NaN  \n",
       "...                                                   ...  \n",
       "777919                                      It feels good  \n",
       "777920                                                NaN  \n",
       "777921                                                NaN  \n",
       "777922                                                NaN  \n",
       "777923                                                NaN  \n",
       "\n",
       "[727242 rows x 6 columns]"
      ]
     },
     "execution_count": 20,
     "metadata": {},
     "output_type": "execute_result"
    }
   ],
   "source": [
    "full_df"
   ]
  },
  {
   "cell_type": "markdown",
   "id": "0712310f",
   "metadata": {},
   "source": [
    "### Add indonesian_text and english_text"
   ]
  },
  {
   "cell_type": "code",
   "execution_count": 21,
   "id": "c9d62301",
   "metadata": {},
   "outputs": [],
   "source": [
    "# Inisialisasi kolom baru dengan dtype yang sesuai\n",
    "full_df['english_review'] = np.nan\n",
    "full_df['indonesian_review'] = np.nan\n",
    "\n",
    "# Memisahkan ulasan berdasarkan bahasa menggunakan operasi vectorized\n",
    "mask_both_notnull = full_df['review_text'].notnull() & full_df['review_translated_text'].notnull()\n",
    "mask_translated_null = full_df['review_translated_text'].isnull()\n",
    "\n",
    "full_df.loc[mask_both_notnull, 'english_review'] = full_df['review_translated_text']\n",
    "full_df.loc[mask_both_notnull, 'indonesian_review'] = full_df['review_text']\n",
    "full_df.loc[mask_translated_null, 'english_review'] = full_df['review_text']\n",
    "\n",
    "# Menghapus kolom asli\n",
    "full_df.drop(['review_text', 'review_translated_text'], axis=1, inplace=True)"
   ]
  },
  {
   "cell_type": "code",
   "execution_count": 22,
   "id": "47e46cb0",
   "metadata": {},
   "outputs": [
    {
     "name": "stdout",
     "output_type": "stream",
     "text": [
      "<class 'pandas.core.frame.DataFrame'>\n",
      "Index: 727242 entries, 0 to 777923\n",
      "Data columns (total 6 columns):\n",
      " #   Column             Non-Null Count   Dtype \n",
      "---  ------             --------------   ----- \n",
      " 0   place_id           727242 non-null  object\n",
      " 1   review_id_hash     727242 non-null  object\n",
      " 2   rating             727242 non-null  int64 \n",
      " 3   published_at_date  727242 non-null  object\n",
      " 4   english_review     378859 non-null  object\n",
      " 5   indonesian_review  296115 non-null  object\n",
      "dtypes: int64(1), object(5)\n",
      "memory usage: 55.0+ MB\n"
     ]
    }
   ],
   "source": [
    "full_df.info()"
   ]
  },
  {
   "cell_type": "markdown",
   "id": "afd20ab0",
   "metadata": {},
   "source": [
    "### Add Label"
   ]
  },
  {
   "cell_type": "code",
   "execution_count": 23,
   "id": "a00311a1",
   "metadata": {},
   "outputs": [],
   "source": [
    "def determine_sentiment(rating):\n",
    "    if rating < 4:\n",
    "        return 0  # Negatif\n",
    "    else:\n",
    "        return 1  # Positif\n",
    "\n",
    "# Menambahkan kolom sentiment berdasarkan rating\n",
    "full_df['sentiment'] = full_df['rating'].apply(determine_sentiment)"
   ]
  },
  {
   "cell_type": "code",
   "execution_count": 24,
   "id": "8cbd4e21",
   "metadata": {},
   "outputs": [
    {
     "data": {
      "text/html": [
       "<div>\n",
       "<style scoped>\n",
       "    .dataframe tbody tr th:only-of-type {\n",
       "        vertical-align: middle;\n",
       "    }\n",
       "\n",
       "    .dataframe tbody tr th {\n",
       "        vertical-align: top;\n",
       "    }\n",
       "\n",
       "    .dataframe thead th {\n",
       "        text-align: right;\n",
       "    }\n",
       "</style>\n",
       "<table border=\"1\" class=\"dataframe\">\n",
       "  <thead>\n",
       "    <tr style=\"text-align: right;\">\n",
       "      <th></th>\n",
       "      <th>place_id</th>\n",
       "      <th>review_id_hash</th>\n",
       "      <th>rating</th>\n",
       "      <th>published_at_date</th>\n",
       "      <th>english_review</th>\n",
       "      <th>indonesian_review</th>\n",
       "      <th>sentiment</th>\n",
       "    </tr>\n",
       "  </thead>\n",
       "  <tbody>\n",
       "    <tr>\n",
       "      <th>0</th>\n",
       "      <td>ChIJu9y7OwvzaS4RLbblSdhvIEw</td>\n",
       "      <td>a18eac00957bdcb65c125d719aa5cba6</td>\n",
       "      <td>5</td>\n",
       "      <td>2023-12-01</td>\n",
       "      <td>NaN</td>\n",
       "      <td>NaN</td>\n",
       "      <td>1</td>\n",
       "    </tr>\n",
       "    <tr>\n",
       "      <th>1</th>\n",
       "      <td>ChIJu9y7OwvzaS4RLbblSdhvIEw</td>\n",
       "      <td>335fb2a4cf49ec4d09eefe501069feb6</td>\n",
       "      <td>5</td>\n",
       "      <td>2023-12-01</td>\n",
       "      <td>Celebrate the party pack, even if you only buy...</td>\n",
       "      <td>Rayain party pack walau cuma beli minimal 3 aj...</td>\n",
       "      <td>1</td>\n",
       "    </tr>\n",
       "    <tr>\n",
       "      <th>2</th>\n",
       "      <td>ChIJu9y7OwvzaS4RLbblSdhvIEw</td>\n",
       "      <td>1e0c1274579f38c2384772224573810f</td>\n",
       "      <td>5</td>\n",
       "      <td>2023-12-01</td>\n",
       "      <td>NaN</td>\n",
       "      <td>NaN</td>\n",
       "      <td>1</td>\n",
       "    </tr>\n",
       "    <tr>\n",
       "      <th>3</th>\n",
       "      <td>ChIJu9y7OwvzaS4RLbblSdhvIEw</td>\n",
       "      <td>89eb5616efbc2ccafb304b8eac29c5f9</td>\n",
       "      <td>5</td>\n",
       "      <td>2023-12-01</td>\n",
       "      <td>NaN</td>\n",
       "      <td>NaN</td>\n",
       "      <td>1</td>\n",
       "    </tr>\n",
       "    <tr>\n",
       "      <th>4</th>\n",
       "      <td>ChIJu9y7OwvzaS4RLbblSdhvIEw</td>\n",
       "      <td>8b3130ef4a2da4242eff8db2ecd4f3af</td>\n",
       "      <td>5</td>\n",
       "      <td>2023-12-01</td>\n",
       "      <td>NaN</td>\n",
       "      <td>NaN</td>\n",
       "      <td>1</td>\n",
       "    </tr>\n",
       "    <tr>\n",
       "      <th>...</th>\n",
       "      <td>...</td>\n",
       "      <td>...</td>\n",
       "      <td>...</td>\n",
       "      <td>...</td>\n",
       "      <td>...</td>\n",
       "      <td>...</td>\n",
       "      <td>...</td>\n",
       "    </tr>\n",
       "    <tr>\n",
       "      <th>777919</th>\n",
       "      <td>ChIJrYIz0CJXei4R-NAdJzRuNeE</td>\n",
       "      <td>a332d84cb4c015471476b302fca0c0ac</td>\n",
       "      <td>5</td>\n",
       "      <td>2023-05-14</td>\n",
       "      <td>It feels good</td>\n",
       "      <td>Rasanya enak</td>\n",
       "      <td>1</td>\n",
       "    </tr>\n",
       "    <tr>\n",
       "      <th>777920</th>\n",
       "      <td>ChIJEeRcDTFZei4RGwM0XiFELDo</td>\n",
       "      <td>5b63313e61c9e5d97b8c26af6e777634</td>\n",
       "      <td>5</td>\n",
       "      <td>2023-12-14</td>\n",
       "      <td>NaN</td>\n",
       "      <td>NaN</td>\n",
       "      <td>1</td>\n",
       "    </tr>\n",
       "    <tr>\n",
       "      <th>777921</th>\n",
       "      <td>ChIJQ3jEZgBZei4RJq00TKSIV7w</td>\n",
       "      <td>8d28e90adb3a0e4714898944b105ac39</td>\n",
       "      <td>5</td>\n",
       "      <td>2024-04-14</td>\n",
       "      <td>NaN</td>\n",
       "      <td>NaN</td>\n",
       "      <td>1</td>\n",
       "    </tr>\n",
       "    <tr>\n",
       "      <th>777922</th>\n",
       "      <td>ChIJi2wQirFZei4RsHLHfUxpZ_k</td>\n",
       "      <td>0546bd30d3bf441d27d7d830ccfe1cee</td>\n",
       "      <td>5</td>\n",
       "      <td>2020-05-14</td>\n",
       "      <td>NaN</td>\n",
       "      <td>NaN</td>\n",
       "      <td>1</td>\n",
       "    </tr>\n",
       "    <tr>\n",
       "      <th>777923</th>\n",
       "      <td>ChIJGSZLcaxZei4RanqgGgR_xyY</td>\n",
       "      <td>433ce491338fc47927579d406237a29a</td>\n",
       "      <td>5</td>\n",
       "      <td>2020-05-14</td>\n",
       "      <td>NaN</td>\n",
       "      <td>NaN</td>\n",
       "      <td>1</td>\n",
       "    </tr>\n",
       "  </tbody>\n",
       "</table>\n",
       "<p>727242 rows × 7 columns</p>\n",
       "</div>"
      ],
      "text/plain": [
       "                           place_id                    review_id_hash  rating  \\\n",
       "0       ChIJu9y7OwvzaS4RLbblSdhvIEw  a18eac00957bdcb65c125d719aa5cba6       5   \n",
       "1       ChIJu9y7OwvzaS4RLbblSdhvIEw  335fb2a4cf49ec4d09eefe501069feb6       5   \n",
       "2       ChIJu9y7OwvzaS4RLbblSdhvIEw  1e0c1274579f38c2384772224573810f       5   \n",
       "3       ChIJu9y7OwvzaS4RLbblSdhvIEw  89eb5616efbc2ccafb304b8eac29c5f9       5   \n",
       "4       ChIJu9y7OwvzaS4RLbblSdhvIEw  8b3130ef4a2da4242eff8db2ecd4f3af       5   \n",
       "...                             ...                               ...     ...   \n",
       "777919  ChIJrYIz0CJXei4R-NAdJzRuNeE  a332d84cb4c015471476b302fca0c0ac       5   \n",
       "777920  ChIJEeRcDTFZei4RGwM0XiFELDo  5b63313e61c9e5d97b8c26af6e777634       5   \n",
       "777921  ChIJQ3jEZgBZei4RJq00TKSIV7w  8d28e90adb3a0e4714898944b105ac39       5   \n",
       "777922  ChIJi2wQirFZei4RsHLHfUxpZ_k  0546bd30d3bf441d27d7d830ccfe1cee       5   \n",
       "777923  ChIJGSZLcaxZei4RanqgGgR_xyY  433ce491338fc47927579d406237a29a       5   \n",
       "\n",
       "       published_at_date                                     english_review  \\\n",
       "0             2023-12-01                                                NaN   \n",
       "1             2023-12-01  Celebrate the party pack, even if you only buy...   \n",
       "2             2023-12-01                                                NaN   \n",
       "3             2023-12-01                                                NaN   \n",
       "4             2023-12-01                                                NaN   \n",
       "...                  ...                                                ...   \n",
       "777919        2023-05-14                                      It feels good   \n",
       "777920        2023-12-14                                                NaN   \n",
       "777921        2024-04-14                                                NaN   \n",
       "777922        2020-05-14                                                NaN   \n",
       "777923        2020-05-14                                                NaN   \n",
       "\n",
       "                                        indonesian_review  sentiment  \n",
       "0                                                     NaN          1  \n",
       "1       Rayain party pack walau cuma beli minimal 3 aj...          1  \n",
       "2                                                     NaN          1  \n",
       "3                                                     NaN          1  \n",
       "4                                                     NaN          1  \n",
       "...                                                   ...        ...  \n",
       "777919                                       Rasanya enak          1  \n",
       "777920                                                NaN          1  \n",
       "777921                                                NaN          1  \n",
       "777922                                                NaN          1  \n",
       "777923                                                NaN          1  \n",
       "\n",
       "[727242 rows x 7 columns]"
      ]
     },
     "execution_count": 24,
     "metadata": {},
     "output_type": "execute_result"
    }
   ],
   "source": [
    "full_df"
   ]
  },
  {
   "cell_type": "code",
   "execution_count": 25,
   "id": "29bf0048",
   "metadata": {},
   "outputs": [
    {
     "data": {
      "image/png": "[encoded data removed]",
      "text/plain": [
       "<Figure size 800x600 with 1 Axes>"
      ]
     },
     "metadata": {},
     "output_type": "display_data"
    }
   ],
   "source": [
    "# Menghitung distribusi sentimen\n",
    "sentiment_counts = full_df['sentiment'].value_counts()\n",
    "\n",
    "# Membuat bar chart\n",
    "plt.figure(figsize=(8, 6))\n",
    "sns.barplot(x=sentiment_counts.index, y=sentiment_counts.values, palette='viridis')\n",
    "plt.xlabel('Sentiment')\n",
    "plt.ylabel('Count')\n",
    "plt.title('Distribution of Sentiments')\n",
    "plt.xticks(ticks=[0, 1], labels=['Negatif', 'Positif'])\n",
    "plt.show()"
   ]
  },
  {
   "cell_type": "code",
   "execution_count": 26,
   "id": "e91a2f73",
   "metadata": {},
   "outputs": [],
   "source": [
    "indo_df    = full_df.drop('english_review', axis=1).dropna(subset=['indonesian_review'])\n",
    "english_df = full_df.drop('indonesian_review', axis=1).dropna(subset=['english_review'])"
   ]
  },
  {
   "cell_type": "code",
   "execution_count": 27,
   "id": "8c7bd1df",
   "metadata": {},
   "outputs": [],
   "source": [
    "english_df.to_csv('Sentiment Analysis\\english_review.csv', index=False)"
   ]
  },
  {
   "cell_type": "markdown",
   "id": "5c346469",
   "metadata": {},
   "source": [
    "# Critism Dataset"
   ]
  },
  {
   "cell_type": "markdown",
   "id": "5d69595e",
   "metadata": {},
   "source": [
    "## Import Data"
   ]
  },
  {
   "cell_type": "code",
   "execution_count": 28,
   "id": "ea258724",
   "metadata": {},
   "outputs": [],
   "source": [
    "critism_paths = [\n",
    "    r'.\\kritik dataset\\df_neg_1.csv',\n",
    "    r'.\\kritik dataset\\df_neg_2.csv',\n",
    "    r'.\\kritik dataset\\df_neg_3.csv',\n",
    "    r'.\\kritik dataset\\df_neg_4.csv',\n",
    "    r'.\\kritik dataset\\df_neg_5.csv',\n",
    "    r'.\\kritik dataset\\df_pos_1.csv',\n",
    "    r'.\\kritik dataset\\df_pos_2.csv',\n",
    "    r'.\\kritik dataset\\df_pos_3.csv',\n",
    "    r'.\\kritik dataset\\df_pos_4.csv',\n",
    "    r'.\\kritik dataset\\df_pos_5.csv',\n",
    "    r'.\\kritik dataset\\df_pos_6.csv'\n",
    "]"
   ]
  },
  {
   "cell_type": "code",
   "execution_count": 29,
   "id": "73c2d7f4",
   "metadata": {},
   "outputs": [],
   "source": [
    "critism_dfs = [pd.read_csv(critism_path) for critism_path in critism_paths]"
   ]
  },
  {
   "cell_type": "markdown",
   "id": "38e68d6a",
   "metadata": {},
   "source": [
    "## Combine Data"
   ]
  },
  {
   "cell_type": "code",
   "execution_count": 30,
   "id": "a0ad1a29",
   "metadata": {},
   "outputs": [],
   "source": [
    "merged_critism = pd.concat(critism_dfs, ignore_index=True)"
   ]
  },
  {
   "cell_type": "markdown",
   "id": "fd73fef6",
   "metadata": {},
   "source": [
    "## Feature Engineering"
   ]
  },
  {
   "cell_type": "code",
   "execution_count": 31,
   "id": "7c4b91ac",
   "metadata": {},
   "outputs": [],
   "source": [
    "critism_df = merged_critism.dropna(subset=['label'])\n",
    "critism_df['label'] = critism_df['label'].astype(int)"
   ]
  },
  {
   "cell_type": "markdown",
   "id": "6009eeb4",
   "metadata": {},
   "source": [
    "## Export"
   ]
  },
  {
   "cell_type": "code",
   "execution_count": 32,
   "id": "43d8f1f0",
   "metadata": {},
   "outputs": [],
   "source": [
    "critism_df.to_csv(\"Sentiment Analysis\\criticism_dataset.csv\", index=False)"
   ]
  }
 ],
 "metadata": {
  "kernelspec": {
   "display_name": "Python 3 (ipykernel)",
   "language": "python",
   "name": "python3"
  },
  "language_info": {
   "codemirror_mode": {
    "name": "ipython",
    "version": 3
   },
   "file_extension": ".py",
   "mimetype": "text/x-python",
   "name": "python",
   "nbconvert_exporter": "python",
   "pygments_lexer": "ipython3",
   "version": "3.9.18"
  }
 },
 "nbformat": 4,
 "nbformat_minor": 5
}
